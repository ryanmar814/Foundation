{
  "nbformat": 4,
  "nbformat_minor": 0,
  "metadata": {
    "colab": {
      "name": "Barcodes.ipynb",
      "provenance": [],
      "collapsed_sections": [],
      "authorship_tag": "ABX9TyNiSaBtNvUoSDkG3AjZzsWA",
      "include_colab_link": true
    },
    "kernelspec": {
      "name": "python3",
      "display_name": "Python 3"
    }
  },
  "cells": [
    {
      "cell_type": "markdown",
      "metadata": {
        "id": "view-in-github",
        "colab_type": "text"
      },
      "source": [
        "<a href=\"https://colab.research.google.com/github/ryanmar814/Foundation/blob/master/Barcodes.ipynb\" target=\"_parent\"><img src=\"https://colab.research.google.com/assets/colab-badge.svg\" alt=\"Open In Colab\"/></a>"
      ]
    },
    {
      "cell_type": "code",
      "metadata": {
        "id": "d7vWf7Uzq79f",
        "colab_type": "code",
        "colab": {}
      },
      "source": [
        "import pandas as pd \n",
        "B = {'Static': ['99LIB'],\n",
        "     'Number': [100000]\n",
        "}\n",
        "df = pd.DataFrame(B)\n",
        "\n",
        "##DO NOT TOUCH THIS CELL!"
      ],
      "execution_count": 0,
      "outputs": []
    },
    {
      "cell_type": "code",
      "metadata": {
        "id": "ux8R52Xv4bAm",
        "colab_type": "code",
        "colab": {}
      },
      "source": [
        "def new_barcode(df):\n",
        "    new_num = df.tail(1).Number.values[0] + 1\n",
        "    print(df.tail(1).Static.values + str(new_num))\n",
        "    return df.append({'Static': '99LIB',\n",
        "               'Number': new_num}, ignore_index=True)\n",
        "##DO NOT TOUCH THIS CELL!"
      ],
      "execution_count": 0,
      "outputs": []
    },
    {
      "cell_type": "code",
      "metadata": {
        "id": "78lE7r964dU3",
        "colab_type": "code",
        "outputId": "80913296-9c5c-4364-be3e-fcd3e83165a9",
        "colab": {
          "base_uri": "https://localhost:8080/",
          "height": 187
        }
      },
      "source": [
        "##To run:\n",
        "## 1) Replace the below number with the number of barcodes you need \n",
        "## 2) Press the play button on this cell. \n",
        "for i in range(10):\n",
        "  df = new_barcode(df)"
      ],
      "execution_count": 3,
      "outputs": [
        {
          "output_type": "stream",
          "text": [
            "['99LIB100001']\n",
            "['99LIB100002']\n",
            "['99LIB100003']\n",
            "['99LIB100004']\n",
            "['99LIB100005']\n",
            "['99LIB100006']\n",
            "['99LIB100007']\n",
            "['99LIB100008']\n",
            "['99LIB100009']\n",
            "['99LIB100010']\n"
          ],
          "name": "stdout"
        }
      ]
    }
  ]
}