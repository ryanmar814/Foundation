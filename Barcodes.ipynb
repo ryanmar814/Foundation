{
  "nbformat": 4,
  "nbformat_minor": 0,
  "metadata": {
    "colab": {
      "name": "Barcodes.ipynb",
      "provenance": [],
      "collapsed_sections": [],
      "authorship_tag": "ABX9TyPIC7JypFEnSaupwulBnQMg",
      "include_colab_link": true
    },
    "kernelspec": {
      "name": "python3",
      "display_name": "Python 3"
    }
  },
  "cells": [
    {
      "cell_type": "markdown",
      "metadata": {
        "id": "view-in-github",
        "colab_type": "text"
      },
      "source": [
        "<a href=\"https://colab.research.google.com/github/ryanmar814/Foundation/blob/master/Barcodes.ipynb\" target=\"_parent\"><img src=\"https://colab.research.google.com/assets/colab-badge.svg\" alt=\"Open In Colab\"/></a>"
      ]
    },
    {
      "cell_type": "code",
      "metadata": {
        "id": "d7vWf7Uzq79f",
        "colab_type": "code",
        "colab": {}
      },
      "source": [
        "import pandas as pd \n",
        "B = {'Static': ['99LIB'],\n",
        "     'Number': [100000]\n",
        "}\n",
        "df = pd.DataFrame(B)\n",
        "\n",
        "##DO NOT TOUCH THIS CELL!"
      ],
      "execution_count": 0,
      "outputs": []
    },
    {
      "cell_type": "code",
      "metadata": {
        "id": "ux8R52Xv4bAm",
        "colab_type": "code",
        "colab": {}
      },
      "source": [
        "def new_barcode(df):\n",
        "    new_num = df.tail(1).Number.values[0] + 1\n",
        "    print(df.tail(1).Static.values + str(new_num))\n",
        "    return df.append({'Static': '99LIB',\n",
        "               'Number': new_num}, ignore_index=True)\n",
        "##DO NOT TOUCH THIS CELL!"
      ],
      "execution_count": 0,
      "outputs": []
    },
    {
      "cell_type": "code",
      "metadata": {
        "id": "78lE7r964dU3",
        "colab_type": "code",
        "outputId": "b03ea5c3-8f03-4052-d670-a903e900ed69",
        "colab": {
          "base_uri": "https://localhost:8080/",
          "height": 1000
        }
      },
      "source": [
        "##To run:\n",
        "## 1) Replace the below number with the number of barcodes you need \n",
        "## 2) Press the play button on this cell. \n",
        "for i in range(100):\n",
        "  df = new_barcode(df)"
      ],
      "execution_count": 6,
      "outputs": [
        {
          "output_type": "stream",
          "text": [
            "['99LIB100003']\n",
            "['99LIB100004']\n",
            "['99LIB100005']\n",
            "['99LIB100006']\n",
            "['99LIB100007']\n",
            "['99LIB100008']\n",
            "['99LIB100009']\n",
            "['99LIB100010']\n",
            "['99LIB100011']\n",
            "['99LIB100012']\n",
            "['99LIB100013']\n",
            "['99LIB100014']\n",
            "['99LIB100015']\n",
            "['99LIB100016']\n",
            "['99LIB100017']\n",
            "['99LIB100018']\n",
            "['99LIB100019']\n",
            "['99LIB100020']\n",
            "['99LIB100021']\n",
            "['99LIB100022']\n",
            "['99LIB100023']\n",
            "['99LIB100024']\n",
            "['99LIB100025']\n",
            "['99LIB100026']\n",
            "['99LIB100027']\n",
            "['99LIB100028']\n",
            "['99LIB100029']\n",
            "['99LIB100030']\n",
            "['99LIB100031']\n",
            "['99LIB100032']\n",
            "['99LIB100033']\n",
            "['99LIB100034']\n",
            "['99LIB100035']\n",
            "['99LIB100036']\n",
            "['99LIB100037']\n",
            "['99LIB100038']\n",
            "['99LIB100039']\n",
            "['99LIB100040']\n",
            "['99LIB100041']\n",
            "['99LIB100042']\n",
            "['99LIB100043']\n",
            "['99LIB100044']\n",
            "['99LIB100045']\n",
            "['99LIB100046']\n",
            "['99LIB100047']\n",
            "['99LIB100048']\n",
            "['99LIB100049']\n",
            "['99LIB100050']\n",
            "['99LIB100051']\n",
            "['99LIB100052']\n",
            "['99LIB100053']\n",
            "['99LIB100054']\n",
            "['99LIB100055']\n",
            "['99LIB100056']\n",
            "['99LIB100057']\n",
            "['99LIB100058']\n",
            "['99LIB100059']\n",
            "['99LIB100060']\n",
            "['99LIB100061']\n",
            "['99LIB100062']\n",
            "['99LIB100063']\n",
            "['99LIB100064']\n",
            "['99LIB100065']\n",
            "['99LIB100066']\n",
            "['99LIB100067']\n",
            "['99LIB100068']\n",
            "['99LIB100069']\n",
            "['99LIB100070']\n",
            "['99LIB100071']\n",
            "['99LIB100072']\n",
            "['99LIB100073']\n",
            "['99LIB100074']\n",
            "['99LIB100075']\n",
            "['99LIB100076']\n",
            "['99LIB100077']\n",
            "['99LIB100078']\n",
            "['99LIB100079']\n",
            "['99LIB100080']\n",
            "['99LIB100081']\n",
            "['99LIB100082']\n",
            "['99LIB100083']\n",
            "['99LIB100084']\n",
            "['99LIB100085']\n",
            "['99LIB100086']\n",
            "['99LIB100087']\n",
            "['99LIB100088']\n",
            "['99LIB100089']\n",
            "['99LIB100090']\n",
            "['99LIB100091']\n",
            "['99LIB100092']\n",
            "['99LIB100093']\n",
            "['99LIB100094']\n",
            "['99LIB100095']\n",
            "['99LIB100096']\n",
            "['99LIB100097']\n",
            "['99LIB100098']\n",
            "['99LIB100099']\n",
            "['99LIB100100']\n",
            "['99LIB100101']\n",
            "['99LIB100102']\n"
          ],
          "name": "stdout"
        }
      ]
    }
  ]
}